{
 "cells": [
  {
   "cell_type": "markdown",
   "id": "14e8ef8e",
   "metadata": {},
   "source": [
    "<div style=\"background-color:#daee8420; line-height:1.5; text-align:center;border:2px solid black;\">\n",
    "    <div style=\"color:#7B242F; font-size:24pt; font-weight:700;\">The Ultimate Machine Learning Mastery Course with Python</div>\n",
    "</div>"
   ]
  },
  {
   "cell_type": "markdown",
   "id": "458dc506-6455-42f8-b894-ccb3219b093d",
   "metadata": {},
   "source": [
    "---\n",
    "### **Course**: The Ultimate Machine Learning Course with Python  \n",
    "#### **Chapter**: Machine Learning with Python Frameworks\n",
    "##### **Lesson**: Scikit-Learn Framework\n",
    "\n",
    "###### **Author:** Dr. Saad Laouadi   \n",
    "###### **Copyright:** Dr. Saad Laouadi    \n",
    "\n",
    "---\n",
    "\n",
    "## License\n",
    "\n",
    "**This material is intended for educational purposes only and may not be used directly in courses, video recordings, or similar without prior consent from the author. When using or referencing this material, proper credit must be attributed to the author.**\n",
    "\n",
    "```text\n",
    "#**************************************************************************\n",
    "#* (C) Copyright 2024 by Dr. Saad Laouadi. All Rights Reserved.           *\n",
    "#**************************************************************************                                                                    \n",
    "#* DISCLAIMER: The author has used their best efforts in preparing        *\n",
    "#* this content. These efforts include development, research,             *\n",
    "#* and testing of the theories and programs to determine their            *\n",
    "#* effectiveness. The author makes no warranty of any kind,               *\n",
    "#* expressed or implied, with regard to these programs or                 *\n",
    "#* to the documentation contained within. The author shall not            *\n",
    "#* be liable in any event for incidental or consequential damages         *\n",
    "#* in connection with, or arising out of, the furnishing,                 *\n",
    "#* performance, or use of these programs.                                 *\n",
    "#*                                                                        *\n",
    "#* This content is intended for tutorials, online articles,               *\n",
    "#* and other educational purposes.                                        *\n",
    "#**************************************************************************\n",
    "```"
   ]
  },
  {
   "cell_type": "markdown",
   "id": "f94e6fa5-e344-4893-8830-22e75d2c6656",
   "metadata": {},
   "source": [
    "# Introduction to scikit-learn\n",
    "\n",
    "**Scikit-learn** is one of the most prominent and widely used general-purpose machine learning libraries for Python. It offers a robust set of tools for data analysis, preprocessing, and building predictive models. Designed with simplicity and efficiency in mind, scikit-learn is a versatile library that caters to both beginner and advanced machine learning practitioners.\n",
    "\n",
    "### Why Use scikit-learn?\n",
    "\n",
    "scikit-learn is highly regarded due to its ease of use, comprehensive documentation, and the wide range of machine learning algorithms it offers. Whether you are working on classification, regression, clustering, or dimensionality reduction, scikit-learn provides well-optimized and standardized methods to streamline your workflow.\n",
    "\n",
    "Key benefits of scikit-learn include:\n",
    "- **User-friendly API**: Simple and consistent interfaces for performing machine learning tasks.\n",
    "- **Comprehensive set of algorithms**: From classical machine learning techniques to advanced methods for supervised and unsupervised learning.\n",
    "- **Efficiency**: Well-optimized code for scalability, even with large datasets.\n",
    "- **Interoperability**: Easily integrates with other Python libraries like NumPy, SciPy, and Pandas.\n",
    "\n",
    "---\n",
    "\n",
    "### Core Submodules in scikit-learn:\n",
    "\n",
    "scikit-learn is organized into several submodules, each focusing on different aspects of machine learning and data processing. Below is a breakdown of its core functionality:\n",
    "\n",
    "#### 1. **Classification**\n",
    "Classification algorithms are used to assign input data into discrete categories. scikit-learn offers a wide range of algorithms, including:\n",
    "- **Support Vector Machines (SVM)**: Powerful for classification in both linear and non-linear settings.\n",
    "- **k-Nearest Neighbors (KNN)**: Simple and intuitive, KNN classifies new data points based on the majority class of its neighbors.\n",
    "- **Random Forests**: A popular ensemble method that combines multiple decision trees to improve prediction accuracy.\n",
    "- **Logistic Regression**: A classical algorithm widely used for binary classification problems.\n",
    "\n",
    "#### 2. **Regression**\n",
    "Regression algorithms predict continuous values based on input data. Key algorithms in scikit-learn include:\n",
    "- **Lasso Regression**: Lasso performs linear regression with L1 regularization, helping to reduce model complexity by shrinking coefficients.\n",
    "- **Ridge Regression**: Similar to Lasso, but uses L2 regularization to prevent overfitting in linear models.\n",
    "- **Support Vector Regression (SVR)**: The regression counterpart of SVM, effective for both linear and non-linear regression tasks.\n",
    "\n",
    "#### 3. **Clustering**\n",
    "Clustering is an unsupervised learning technique used to identify inherent groupings in data. scikit-learn provides:\n",
    "- **k-Means**: One of the most popular clustering algorithms that partitions the data into k distinct clusters based on centroids.\n",
    "- **Spectral Clustering**: A powerful clustering method that uses graph theory and spectral decomposition techniques to detect clusters.\n",
    "- **DBSCAN**: A density-based clustering algorithm ideal for finding arbitrarily shaped clusters.\n",
    "\n",
    "#### 4. **Dimensionality Reduction**\n",
    "Dimensionality reduction is useful for simplifying large datasets by reducing the number of features while preserving essential patterns. scikit-learn includes:\n",
    "- **Principal Component Analysis (PCA)**: A fundamental technique for reducing the dimensionality of datasets while retaining as much variance as possible.\n",
    "- **Feature Selection**: Techniques like Recursive Feature Elimination (RFE) and SelectKBest are used to select the most relevant features.\n",
    "- **Matrix Factorization**: Algorithms like Non-Negative Matrix Factorization (NMF) are provided to reduce dimensions by factorizing matrices into lower-dimensional representations.\n",
    "\n",
    "#### 5. **Model Selection**\n",
    "Model selection is crucial for optimizing machine learning models. scikit-learn offers several utilities to facilitate model tuning and evaluation, including:\n",
    "- **Grid Search**: A method for exhaustively searching over specified hyperparameter values to find the optimal model.\n",
    "- **Cross-Validation**: A technique for assessing how well a model generalizes to an independent dataset by training and testing it multiple times with different subsets of data.\n",
    "- **Metrics**: A rich collection of performance metrics, including accuracy, precision, recall, F1-score, ROC-AUC, and more.\n",
    "\n",
    "#### 6. **Preprocessing**\n",
    "Preprocessing tools are essential for preparing data before feeding it into machine learning algorithms. scikit-learn provides:\n",
    "- **Feature Scaling**: Methods like MinMaxScaler and StandardScaler to normalize or standardize your data for better model performance.\n",
    "- **Imputation**: Techniques for handling missing data, such as mean, median, or constant value imputation.\n",
    "- **Encoding Categorical Features**: Utilities like OneHotEncoder and LabelEncoder to convert categorical data into numerical formats suitable for model training.\n",
    "\n",
    "---\n",
    "\n",
    "### Educational Purpose\n",
    "\n",
    "This guide to scikit-learn is designed to provide students and aspiring data scientists with a structured understanding of how to approach machine learning tasks. By breaking down the various submodules and algorithms, learners can gain insight into the fundamental building blocks of machine learning. \n",
    "\n",
    "Here’s how to maximize your learning:\n",
    "1. **Hands-On Practice**: Experiment with different algorithms using real-world datasets. The best way to solidify your understanding is by applying concepts through coding.\n",
    "2. **Understand the Theory**: While scikit-learn makes machine learning implementation easy, it's essential to grasp the theory behind each algorithm to make informed decisions about which methods to use and when.\n",
    "3. **Experiment with Model Selection**: Use scikit-learn’s powerful tools like Grid Search and Cross-Validation to tune your models and find the best hyperparameters.\n",
    "4. **Preprocess Data Effectively**: Learn to handle raw data using scikit-learn’s preprocessing tools to ensure your models perform well in practice.\n",
    "\n",
    "---\n",
    "\n",
    "### Conclusion\n",
    "\n",
    "scikit-learn is a versatile and efficient library that covers a wide range of machine learning tasks, from preprocessing to model selection. Its simplicity and powerful features make it an excellent choice for both beginners and experienced professionals looking to implement machine learning solutions. By mastering the core functionalities of scikit-learn, you will be equipped to tackle various real-world data science problems with confidence.\n",
    "\n",
    "---"
   ]
  },
  {
   "cell_type": "markdown",
   "id": "9542fd11-69dd-41a5-bb57-2e88d5d19312",
   "metadata": {},
   "source": [
    "### References\n",
    "- [scikit-learn Official Documentation](https://scikit-learn.org/stable/documentation.html)\n",
    "- Hands-on Machine Learning with scikit-learn by Aurélien Géron"
   ]
  },
  {
   "cell_type": "markdown",
   "id": "6a2b5761",
   "metadata": {},
   "source": []
  },
  {
   "cell_type": "markdown",
   "id": "2e867431",
   "metadata": {},
   "source": [
    "### Installing Scikit learn\n",
    "you can use one of the following codes to install the package\n",
    "```python \n",
    "pip install scikit-learn\n",
    "\n",
    "# Or use conda manager\n",
    "conda install scikit-learn\n",
    "```"
   ]
  },
  {
   "cell_type": "markdown",
   "id": "d8931a5d",
   "metadata": {},
   "source": [
    "### Importing Modules from scikit-learn\n",
    "\n",
    "The alias for scikit-learn is sklearn. In order to import a function or a submodule you can use this syntax:\n",
    "```python \n",
    "from sklearn import linear_model\n",
    "```"
   ]
  },
  {
   "cell_type": "code",
   "execution_count": 1,
   "id": "d198e5ea",
   "metadata": {},
   "outputs": [],
   "source": [
    "from sklearn import linear_model"
   ]
  },
  {
   "cell_type": "markdown",
   "id": "e5d7db6c",
   "metadata": {},
   "source": [
    "### Example of Importing datasets "
   ]
  },
  {
   "cell_type": "code",
   "execution_count": 2,
   "id": "46c6ef60",
   "metadata": {},
   "outputs": [],
   "source": [
    "from sklearn import datasets"
   ]
  },
  {
   "cell_type": "code",
   "execution_count": 3,
   "id": "a244543e",
   "metadata": {},
   "outputs": [
    {
     "name": "stdout",
     "output_type": "stream",
     "text": [
      "['__all__', '__builtins__', '__cached__', '__doc__', '__file__', '__getattr__', '__loader__', '__name__', '__package__', '__path__', '__spec__', '_arff_parser', '_base', '_california_housing', '_covtype', '_kddcup99', '_lfw', '_olivetti_faces', '_openml', '_rcv1', '_samples_generator', '_species_distributions', '_svmlight_format_fast', '_svmlight_format_io', '_twenty_newsgroups', 'clear_data_home', 'dump_svmlight_file', 'fetch_20newsgroups', 'fetch_20newsgroups_vectorized', 'fetch_california_housing', 'fetch_covtype', 'fetch_kddcup99', 'fetch_lfw_pairs', 'fetch_lfw_people', 'fetch_olivetti_faces', 'fetch_openml', 'fetch_rcv1', 'fetch_species_distributions', 'get_data_home', 'load_breast_cancer', 'load_diabetes', 'load_digits', 'load_files', 'load_iris', 'load_linnerud', 'load_sample_image', 'load_sample_images', 'load_svmlight_file', 'load_svmlight_files', 'load_wine', 'make_biclusters', 'make_blobs', 'make_checkerboard', 'make_circles', 'make_classification', 'make_friedman1', 'make_friedman2', 'make_friedman3', 'make_gaussian_quantiles', 'make_hastie_10_2', 'make_low_rank_matrix', 'make_moons', 'make_multilabel_classification', 'make_regression', 'make_s_curve', 'make_sparse_coded_signal', 'make_sparse_spd_matrix', 'make_sparse_uncorrelated', 'make_spd_matrix', 'make_swiss_roll', 'textwrap']\n"
     ]
    }
   ],
   "source": [
    "print(dir(datasets))"
   ]
  },
  {
   "cell_type": "markdown",
   "id": "8bda0000",
   "metadata": {},
   "source": [
    "### Checking the Content of datasets"
   ]
  },
  {
   "cell_type": "code",
   "execution_count": 4,
   "id": "e2418372",
   "metadata": {},
   "outputs": [
    {
     "name": "stdout",
     "output_type": "stream",
     "text": [
      "['clear_data_home', 'dump_svmlight_file', 'fetch_20newsgroups', 'fetch_20newsgroups_vectorized', 'fetch_california_housing', 'fetch_covtype', 'fetch_kddcup99', 'fetch_lfw_pairs', 'fetch_lfw_people', 'fetch_olivetti_faces', 'fetch_openml', 'fetch_rcv1', 'fetch_species_distributions', 'get_data_home', 'load_breast_cancer', 'load_diabetes', 'load_digits', 'load_files', 'load_iris', 'load_linnerud', 'load_sample_image', 'load_sample_images', 'load_svmlight_file', 'load_svmlight_files', 'load_wine', 'make_biclusters', 'make_blobs', 'make_checkerboard', 'make_circles', 'make_classification', 'make_friedman1', 'make_friedman2', 'make_friedman3', 'make_gaussian_quantiles', 'make_hastie_10_2', 'make_low_rank_matrix', 'make_moons', 'make_multilabel_classification', 'make_regression', 'make_s_curve', 'make_sparse_coded_signal', 'make_sparse_spd_matrix', 'make_sparse_uncorrelated', 'make_spd_matrix', 'make_swiss_roll', 'textwrap']\n"
     ]
    }
   ],
   "source": [
    "print([data for data in dir(datasets) if not data.startswith('_')])"
   ]
  },
  {
   "cell_type": "markdown",
   "id": "a620c7dc",
   "metadata": {},
   "source": [
    "## Scikit-Learn Data Type\n",
    "\n",
    " We are going to import some data from __sklearn__ package and check their type"
   ]
  },
  {
   "cell_type": "code",
   "execution_count": 5,
   "id": "be79d7e5",
   "metadata": {},
   "outputs": [],
   "source": [
    "diabetes = datasets.load_diabetes()"
   ]
  },
  {
   "cell_type": "code",
   "execution_count": 6,
   "id": "7f7907a9",
   "metadata": {},
   "outputs": [
    {
     "name": "stdout",
     "output_type": "stream",
     "text": [
      "['DESCR', 'data', 'data_filename', 'data_module', 'feature_names', 'frame', 'target', 'target_filename']\n"
     ]
    }
   ],
   "source": [
    "print(dir(diabetes))"
   ]
  },
  {
   "cell_type": "code",
   "execution_count": 7,
   "id": "ce5c23bf",
   "metadata": {},
   "outputs": [
    {
     "data": {
      "text/plain": [
       "sklearn.utils._bunch.Bunch"
      ]
     },
     "execution_count": 7,
     "metadata": {},
     "output_type": "execute_result"
    }
   ],
   "source": [
    "type(diabetes)"
   ]
  },
  {
   "cell_type": "markdown",
   "id": "dab5c7e5",
   "metadata": {},
   "source": [
    "Data type in sklearn is called __Bunch__ which is similar to a dict. "
   ]
  },
  {
   "cell_type": "markdown",
   "id": "3dd6dd5e",
   "metadata": {},
   "source": [
    "### The Content Of a Bunch\n",
    "\n",
    "  - DESCR: Dataset Description\n",
    "  - **data**: values of the independent variables\n",
    "  - **feature_names**: independent variable names\n",
    "  - **target**: values of the dependent variable. \n",
    "  - **filename**: location of the on the local system."
   ]
  },
  {
   "cell_type": "code",
   "execution_count": 8,
   "id": "27b50101",
   "metadata": {},
   "outputs": [
    {
     "name": "stdout",
     "output_type": "stream",
     "text": [
      "dict_keys(['data', 'target', 'frame', 'DESCR', 'feature_names', 'data_filename', 'target_filename', 'data_module'])\n"
     ]
    }
   ],
   "source": [
    "print(diabetes.keys())"
   ]
  },
  {
   "cell_type": "markdown",
   "id": "39f91f47",
   "metadata": {},
   "source": [
    "### Dataset Description \n",
    "\n",
    "you can get information or help about the built-in dataset by checking its __DESCR__ attribute."
   ]
  },
  {
   "cell_type": "code",
   "execution_count": 9,
   "id": "db386e88",
   "metadata": {},
   "outputs": [
    {
     "name": "stdout",
     "output_type": "stream",
     "text": [
      ".. _diabetes_dataset:\n",
      "\n",
      "Diabetes dataset\n",
      "----------------\n",
      "\n",
      "Ten baseline variables, age, sex, body mass index, average blood\n",
      "pressure, and six blood serum measurements were obtained for each of n =\n",
      "442 diabetes patients, as well as the response of interest, a\n",
      "quantitative measure of disease progression one year after baseline.\n",
      "\n",
      "**Data Set Characteristics:**\n",
      "\n",
      ":Number of Instances: 442\n",
      "\n",
      ":Number of Attributes: First 10 columns are numeric predictive values\n",
      "\n",
      ":Target: Column 11 is a quantitative measure of disease progression one year after baseline\n",
      "\n",
      ":Attribute Information:\n",
      "    - age     age in years\n",
      "    - sex\n",
      "    - bmi     body mass index\n",
      "    - bp      average blood pressure\n",
      "    - s1      tc, total serum cholesterol\n",
      "    - s2      ldl, low-density lipoproteins\n",
      "    - s3      hdl, high-density lipoproteins\n",
      "    - s4      tch, total cholesterol / HDL\n",
      "    - s5      ltg, possibly log of serum triglycerides level\n",
      "    - s6      glu, blood sugar level\n",
      "\n",
      "Note: Each of these 10 feature variables have been mean centered and scaled by the standard deviation times the square root of `n_samples` (i.e. the sum of squares of each column totals 1).\n",
      "\n",
      "Source URL:\n",
      "https://www4.stat.ncsu.edu/~boos/var.select/diabetes.html\n",
      "\n",
      "For more information see:\n",
      "Bradley Efron, Trevor Hastie, Iain Johnstone and Robert Tibshirani (2004) \"Least Angle Regression,\" Annals of Statistics (with discussion), 407-499.\n",
      "(https://web.stanford.edu/~hastie/Papers/LARS/LeastAngle_2002.pdf)\n",
      "\n"
     ]
    }
   ],
   "source": [
    "print(diabetes.DESCR)"
   ]
  },
  {
   "cell_type": "markdown",
   "id": "c2a756dc",
   "metadata": {},
   "source": [
    "### Feature Names"
   ]
  },
  {
   "cell_type": "code",
   "execution_count": 10,
   "id": "50e86d6c",
   "metadata": {},
   "outputs": [
    {
     "data": {
      "text/plain": [
       "['age', 'sex', 'bmi', 'bp', 's1', 's2', 's3', 's4', 's5', 's6']"
      ]
     },
     "execution_count": 10,
     "metadata": {},
     "output_type": "execute_result"
    }
   ],
   "source": [
    "diabetes.feature_names"
   ]
  },
  {
   "cell_type": "markdown",
   "id": "110b2392",
   "metadata": {},
   "source": [
    "### Data"
   ]
  },
  {
   "cell_type": "code",
   "execution_count": 11,
   "id": "c48d2729",
   "metadata": {},
   "outputs": [
    {
     "data": {
      "text/plain": [
       "array([[ 0.03807591,  0.05068012,  0.06169621, ..., -0.00259226,\n",
       "         0.01990749, -0.01764613],\n",
       "       [-0.00188202, -0.04464164, -0.05147406, ..., -0.03949338,\n",
       "        -0.06833155, -0.09220405],\n",
       "       [ 0.08529891,  0.05068012,  0.04445121, ..., -0.00259226,\n",
       "         0.00286131, -0.02593034],\n",
       "       ...,\n",
       "       [ 0.04170844,  0.05068012, -0.01590626, ..., -0.01107952,\n",
       "        -0.04688253,  0.01549073],\n",
       "       [-0.04547248, -0.04464164,  0.03906215, ...,  0.02655962,\n",
       "         0.04452873, -0.02593034],\n",
       "       [-0.04547248, -0.04464164, -0.0730303 , ..., -0.03949338,\n",
       "        -0.00422151,  0.00306441]])"
      ]
     },
     "execution_count": 11,
     "metadata": {},
     "output_type": "execute_result"
    }
   ],
   "source": [
    "diabetes.data"
   ]
  },
  {
   "cell_type": "code",
   "execution_count": 12,
   "id": "9160ed09",
   "metadata": {},
   "outputs": [
    {
     "data": {
      "text/plain": [
       "(442, 10)"
      ]
     },
     "execution_count": 12,
     "metadata": {},
     "output_type": "execute_result"
    }
   ],
   "source": [
    "diabetes.data.shape"
   ]
  },
  {
   "cell_type": "markdown",
   "id": "d2c5acad",
   "metadata": {},
   "source": [
    "### The target Variable"
   ]
  },
  {
   "cell_type": "code",
   "execution_count": 13,
   "id": "418ca409",
   "metadata": {},
   "outputs": [
    {
     "data": {
      "text/plain": [
       "(442,)"
      ]
     },
     "execution_count": 13,
     "metadata": {},
     "output_type": "execute_result"
    }
   ],
   "source": [
    "diabetes.target.shape"
   ]
  },
  {
   "cell_type": "markdown",
   "id": "90fcd2e3",
   "metadata": {},
   "source": [
    "## Setting the Data for Building Models"
   ]
  },
  {
   "cell_type": "code",
   "execution_count": 14,
   "id": "b5e48d2b",
   "metadata": {},
   "outputs": [],
   "source": [
    "import pandas as pd "
   ]
  },
  {
   "cell_type": "code",
   "execution_count": 15,
   "id": "481b2cee",
   "metadata": {},
   "outputs": [],
   "source": [
    "X = diabetes.data\n",
    "y = diabetes.target"
   ]
  },
  {
   "cell_type": "code",
   "execution_count": 16,
   "id": "99fa4276",
   "metadata": {},
   "outputs": [],
   "source": [
    "diabetes_df = pd.DataFrame(X, columns = diabetes.feature_names)"
   ]
  },
  {
   "cell_type": "code",
   "execution_count": 17,
   "id": "f933843d",
   "metadata": {},
   "outputs": [
    {
     "data": {
      "text/html": [
       "<div>\n",
       "<style scoped>\n",
       "    .dataframe tbody tr th:only-of-type {\n",
       "        vertical-align: middle;\n",
       "    }\n",
       "\n",
       "    .dataframe tbody tr th {\n",
       "        vertical-align: top;\n",
       "    }\n",
       "\n",
       "    .dataframe thead th {\n",
       "        text-align: right;\n",
       "    }\n",
       "</style>\n",
       "<table border=\"1\" class=\"dataframe\">\n",
       "  <thead>\n",
       "    <tr style=\"text-align: right;\">\n",
       "      <th></th>\n",
       "      <th>age</th>\n",
       "      <th>sex</th>\n",
       "      <th>bmi</th>\n",
       "      <th>bp</th>\n",
       "      <th>s1</th>\n",
       "      <th>s2</th>\n",
       "      <th>s3</th>\n",
       "      <th>s4</th>\n",
       "      <th>s5</th>\n",
       "      <th>s6</th>\n",
       "    </tr>\n",
       "  </thead>\n",
       "  <tbody>\n",
       "    <tr>\n",
       "      <th>0</th>\n",
       "      <td>0.038076</td>\n",
       "      <td>0.050680</td>\n",
       "      <td>0.061696</td>\n",
       "      <td>0.021872</td>\n",
       "      <td>-0.044223</td>\n",
       "      <td>-0.034821</td>\n",
       "      <td>-0.043401</td>\n",
       "      <td>-0.002592</td>\n",
       "      <td>0.019907</td>\n",
       "      <td>-0.017646</td>\n",
       "    </tr>\n",
       "    <tr>\n",
       "      <th>1</th>\n",
       "      <td>-0.001882</td>\n",
       "      <td>-0.044642</td>\n",
       "      <td>-0.051474</td>\n",
       "      <td>-0.026328</td>\n",
       "      <td>-0.008449</td>\n",
       "      <td>-0.019163</td>\n",
       "      <td>0.074412</td>\n",
       "      <td>-0.039493</td>\n",
       "      <td>-0.068332</td>\n",
       "      <td>-0.092204</td>\n",
       "    </tr>\n",
       "    <tr>\n",
       "      <th>2</th>\n",
       "      <td>0.085299</td>\n",
       "      <td>0.050680</td>\n",
       "      <td>0.044451</td>\n",
       "      <td>-0.005670</td>\n",
       "      <td>-0.045599</td>\n",
       "      <td>-0.034194</td>\n",
       "      <td>-0.032356</td>\n",
       "      <td>-0.002592</td>\n",
       "      <td>0.002861</td>\n",
       "      <td>-0.025930</td>\n",
       "    </tr>\n",
       "    <tr>\n",
       "      <th>3</th>\n",
       "      <td>-0.089063</td>\n",
       "      <td>-0.044642</td>\n",
       "      <td>-0.011595</td>\n",
       "      <td>-0.036656</td>\n",
       "      <td>0.012191</td>\n",
       "      <td>0.024991</td>\n",
       "      <td>-0.036038</td>\n",
       "      <td>0.034309</td>\n",
       "      <td>0.022688</td>\n",
       "      <td>-0.009362</td>\n",
       "    </tr>\n",
       "    <tr>\n",
       "      <th>4</th>\n",
       "      <td>0.005383</td>\n",
       "      <td>-0.044642</td>\n",
       "      <td>-0.036385</td>\n",
       "      <td>0.021872</td>\n",
       "      <td>0.003935</td>\n",
       "      <td>0.015596</td>\n",
       "      <td>0.008142</td>\n",
       "      <td>-0.002592</td>\n",
       "      <td>-0.031988</td>\n",
       "      <td>-0.046641</td>\n",
       "    </tr>\n",
       "  </tbody>\n",
       "</table>\n",
       "</div>"
      ],
      "text/plain": [
       "        age       sex       bmi        bp        s1        s2        s3  \\\n",
       "0  0.038076  0.050680  0.061696  0.021872 -0.044223 -0.034821 -0.043401   \n",
       "1 -0.001882 -0.044642 -0.051474 -0.026328 -0.008449 -0.019163  0.074412   \n",
       "2  0.085299  0.050680  0.044451 -0.005670 -0.045599 -0.034194 -0.032356   \n",
       "3 -0.089063 -0.044642 -0.011595 -0.036656  0.012191  0.024991 -0.036038   \n",
       "4  0.005383 -0.044642 -0.036385  0.021872  0.003935  0.015596  0.008142   \n",
       "\n",
       "         s4        s5        s6  \n",
       "0 -0.002592  0.019907 -0.017646  \n",
       "1 -0.039493 -0.068332 -0.092204  \n",
       "2 -0.002592  0.002861 -0.025930  \n",
       "3  0.034309  0.022688 -0.009362  \n",
       "4 -0.002592 -0.031988 -0.046641  "
      ]
     },
     "execution_count": 17,
     "metadata": {},
     "output_type": "execute_result"
    }
   ],
   "source": [
    "diabetes_df.head()"
   ]
  },
  {
   "cell_type": "code",
   "execution_count": 18,
   "id": "74bc6456",
   "metadata": {},
   "outputs": [
    {
     "data": {
      "text/html": [
       "<div>\n",
       "<style scoped>\n",
       "    .dataframe tbody tr th:only-of-type {\n",
       "        vertical-align: middle;\n",
       "    }\n",
       "\n",
       "    .dataframe tbody tr th {\n",
       "        vertical-align: top;\n",
       "    }\n",
       "\n",
       "    .dataframe thead th {\n",
       "        text-align: right;\n",
       "    }\n",
       "</style>\n",
       "<table border=\"1\" class=\"dataframe\">\n",
       "  <thead>\n",
       "    <tr style=\"text-align: right;\">\n",
       "      <th></th>\n",
       "      <th>age</th>\n",
       "      <th>sex</th>\n",
       "      <th>bmi</th>\n",
       "      <th>bp</th>\n",
       "      <th>s1</th>\n",
       "      <th>s2</th>\n",
       "      <th>s3</th>\n",
       "      <th>s4</th>\n",
       "      <th>s5</th>\n",
       "      <th>s6</th>\n",
       "    </tr>\n",
       "  </thead>\n",
       "  <tbody>\n",
       "    <tr>\n",
       "      <th>432</th>\n",
       "      <td>0.009016</td>\n",
       "      <td>-0.044642</td>\n",
       "      <td>0.055229</td>\n",
       "      <td>-0.005670</td>\n",
       "      <td>0.057597</td>\n",
       "      <td>0.044719</td>\n",
       "      <td>-0.002903</td>\n",
       "      <td>0.023239</td>\n",
       "      <td>0.055686</td>\n",
       "      <td>0.106617</td>\n",
       "    </tr>\n",
       "    <tr>\n",
       "      <th>433</th>\n",
       "      <td>-0.027310</td>\n",
       "      <td>-0.044642</td>\n",
       "      <td>-0.060097</td>\n",
       "      <td>-0.029770</td>\n",
       "      <td>0.046589</td>\n",
       "      <td>0.019980</td>\n",
       "      <td>0.122273</td>\n",
       "      <td>-0.039493</td>\n",
       "      <td>-0.051404</td>\n",
       "      <td>-0.009362</td>\n",
       "    </tr>\n",
       "    <tr>\n",
       "      <th>434</th>\n",
       "      <td>0.016281</td>\n",
       "      <td>-0.044642</td>\n",
       "      <td>0.001339</td>\n",
       "      <td>0.008101</td>\n",
       "      <td>0.005311</td>\n",
       "      <td>0.010899</td>\n",
       "      <td>0.030232</td>\n",
       "      <td>-0.039493</td>\n",
       "      <td>-0.045424</td>\n",
       "      <td>0.032059</td>\n",
       "    </tr>\n",
       "    <tr>\n",
       "      <th>435</th>\n",
       "      <td>-0.012780</td>\n",
       "      <td>-0.044642</td>\n",
       "      <td>-0.023451</td>\n",
       "      <td>-0.040099</td>\n",
       "      <td>-0.016704</td>\n",
       "      <td>0.004636</td>\n",
       "      <td>-0.017629</td>\n",
       "      <td>-0.002592</td>\n",
       "      <td>-0.038460</td>\n",
       "      <td>-0.038357</td>\n",
       "    </tr>\n",
       "    <tr>\n",
       "      <th>436</th>\n",
       "      <td>-0.056370</td>\n",
       "      <td>-0.044642</td>\n",
       "      <td>-0.074108</td>\n",
       "      <td>-0.050427</td>\n",
       "      <td>-0.024960</td>\n",
       "      <td>-0.047034</td>\n",
       "      <td>0.092820</td>\n",
       "      <td>-0.076395</td>\n",
       "      <td>-0.061176</td>\n",
       "      <td>-0.046641</td>\n",
       "    </tr>\n",
       "    <tr>\n",
       "      <th>437</th>\n",
       "      <td>0.041708</td>\n",
       "      <td>0.050680</td>\n",
       "      <td>0.019662</td>\n",
       "      <td>0.059744</td>\n",
       "      <td>-0.005697</td>\n",
       "      <td>-0.002566</td>\n",
       "      <td>-0.028674</td>\n",
       "      <td>-0.002592</td>\n",
       "      <td>0.031193</td>\n",
       "      <td>0.007207</td>\n",
       "    </tr>\n",
       "    <tr>\n",
       "      <th>438</th>\n",
       "      <td>-0.005515</td>\n",
       "      <td>0.050680</td>\n",
       "      <td>-0.015906</td>\n",
       "      <td>-0.067642</td>\n",
       "      <td>0.049341</td>\n",
       "      <td>0.079165</td>\n",
       "      <td>-0.028674</td>\n",
       "      <td>0.034309</td>\n",
       "      <td>-0.018114</td>\n",
       "      <td>0.044485</td>\n",
       "    </tr>\n",
       "    <tr>\n",
       "      <th>439</th>\n",
       "      <td>0.041708</td>\n",
       "      <td>0.050680</td>\n",
       "      <td>-0.015906</td>\n",
       "      <td>0.017293</td>\n",
       "      <td>-0.037344</td>\n",
       "      <td>-0.013840</td>\n",
       "      <td>-0.024993</td>\n",
       "      <td>-0.011080</td>\n",
       "      <td>-0.046883</td>\n",
       "      <td>0.015491</td>\n",
       "    </tr>\n",
       "    <tr>\n",
       "      <th>440</th>\n",
       "      <td>-0.045472</td>\n",
       "      <td>-0.044642</td>\n",
       "      <td>0.039062</td>\n",
       "      <td>0.001215</td>\n",
       "      <td>0.016318</td>\n",
       "      <td>0.015283</td>\n",
       "      <td>-0.028674</td>\n",
       "      <td>0.026560</td>\n",
       "      <td>0.044529</td>\n",
       "      <td>-0.025930</td>\n",
       "    </tr>\n",
       "    <tr>\n",
       "      <th>441</th>\n",
       "      <td>-0.045472</td>\n",
       "      <td>-0.044642</td>\n",
       "      <td>-0.073030</td>\n",
       "      <td>-0.081413</td>\n",
       "      <td>0.083740</td>\n",
       "      <td>0.027809</td>\n",
       "      <td>0.173816</td>\n",
       "      <td>-0.039493</td>\n",
       "      <td>-0.004222</td>\n",
       "      <td>0.003064</td>\n",
       "    </tr>\n",
       "  </tbody>\n",
       "</table>\n",
       "</div>"
      ],
      "text/plain": [
       "          age       sex       bmi        bp        s1        s2        s3  \\\n",
       "432  0.009016 -0.044642  0.055229 -0.005670  0.057597  0.044719 -0.002903   \n",
       "433 -0.027310 -0.044642 -0.060097 -0.029770  0.046589  0.019980  0.122273   \n",
       "434  0.016281 -0.044642  0.001339  0.008101  0.005311  0.010899  0.030232   \n",
       "435 -0.012780 -0.044642 -0.023451 -0.040099 -0.016704  0.004636 -0.017629   \n",
       "436 -0.056370 -0.044642 -0.074108 -0.050427 -0.024960 -0.047034  0.092820   \n",
       "437  0.041708  0.050680  0.019662  0.059744 -0.005697 -0.002566 -0.028674   \n",
       "438 -0.005515  0.050680 -0.015906 -0.067642  0.049341  0.079165 -0.028674   \n",
       "439  0.041708  0.050680 -0.015906  0.017293 -0.037344 -0.013840 -0.024993   \n",
       "440 -0.045472 -0.044642  0.039062  0.001215  0.016318  0.015283 -0.028674   \n",
       "441 -0.045472 -0.044642 -0.073030 -0.081413  0.083740  0.027809  0.173816   \n",
       "\n",
       "           s4        s5        s6  \n",
       "432  0.023239  0.055686  0.106617  \n",
       "433 -0.039493 -0.051404 -0.009362  \n",
       "434 -0.039493 -0.045424  0.032059  \n",
       "435 -0.002592 -0.038460 -0.038357  \n",
       "436 -0.076395 -0.061176 -0.046641  \n",
       "437 -0.002592  0.031193  0.007207  \n",
       "438  0.034309 -0.018114  0.044485  \n",
       "439 -0.011080 -0.046883  0.015491  \n",
       "440  0.026560  0.044529 -0.025930  \n",
       "441 -0.039493 -0.004222  0.003064  "
      ]
     },
     "execution_count": 18,
     "metadata": {},
     "output_type": "execute_result"
    }
   ],
   "source": [
    "diabetes_df.tail(10)"
   ]
  },
  {
   "cell_type": "markdown",
   "id": "2d60e4d5",
   "metadata": {},
   "source": [
    "Or we can do it in one step using this syntax:\n",
    "```python\n",
    "datasets.load_diabetes(return_X_y=True)\n",
    "```"
   ]
  },
  {
   "cell_type": "markdown",
   "id": "b0df39a6",
   "metadata": {},
   "source": []
  },
  {
   "cell_type": "code",
   "execution_count": null,
   "id": "09df664f",
   "metadata": {},
   "outputs": [],
   "source": []
  }
 ],
 "metadata": {
  "kernelspec": {
   "display_name": "MLENV Py3.12",
   "language": "python",
   "name": "mlenv"
  },
  "language_info": {
   "codemirror_mode": {
    "name": "ipython",
    "version": 3
   },
   "file_extension": ".py",
   "mimetype": "text/x-python",
   "name": "python",
   "nbconvert_exporter": "python",
   "pygments_lexer": "ipython3",
   "version": "3.12.5"
  }
 },
 "nbformat": 4,
 "nbformat_minor": 5
}

{
 "cells": [
  {
   "cell_type": "markdown",
   "id": "a536400d-c55b-4f6d-8e12-4b74ee52422a",
   "metadata": {},
   "source": [
    "## Environment Setup"
   ]
  },
  {
   "cell_type": "markdown",
   "id": "4bfe94ad-6968-4a42-a166-6160d9478f68",
   "metadata": {},
   "source": [
    "### Python\n",
    "\n",
    "### Package Distributions\n",
    "\n",
    "1. **Miniforge**\n",
    "\n",
    "2. **Miniconda**\n",
    "\n",
    "3. **Anaconda**"
   ]
  },
  {
   "cell_type": "code",
   "execution_count": null,
   "id": "d67b96c9-bcc2-448e-b155-138de45e163f",
   "metadata": {},
   "outputs": [],
   "source": []
  },
  {
   "cell_type": "markdown",
   "id": "79d52098-aaa2-4a36-8723-e4c5e70b8482",
   "metadata": {},
   "source": [
    "## Cloud Services\n",
    "\n",
    "1. Google Cloud\n",
    "2. kaggle"
   ]
  },
  {
   "cell_type": "markdown",
   "id": "8e973db4-b0eb-452d-ab91-e7478e8e3520",
   "metadata": {},
   "source": [
    "## Development Tools \n",
    "\n",
    "### Virtual Environment Tools\n",
    "\n",
    "1. **Venv**\n",
    "\n",
    "2. **Pyenv**\n",
    "\n",
    "3. **Poetry**\n",
    "\n",
    "### Integrated Development Environments\n",
    "\n",
    "\n",
    "1. **Visual Studio Code**\n",
    "\n",
    "2. **Pycharm**\n",
    "\n",
    "3. **Spyder**\n",
    "\n",
    "4. **Jupyter Lab Desktop** \n",
    "\n",
    "### Control Version \n",
    "\n",
    "1. **Git**\n",
    "\n",
    "2. **Gh CLI**\n",
    "\n",
    "### Containers\n",
    "\n",
    "1. **Docker**\n",
    "\n",
    "\n",
    "### AI Models\n",
    "\n",
    "1. **ChatGPT**\n",
    "\n",
    "2. **LImma Model**"
   ]
  }
 ],
 "metadata": {
  "kernelspec": {
   "display_name": "Python3.12",
   "language": "python",
   "name": "python3"
  },
  "language_info": {
   "codemirror_mode": {
    "name": "ipython",
    "version": 3
   },
   "file_extension": ".py",
   "mimetype": "text/x-python",
   "name": "python",
   "nbconvert_exporter": "python",
   "pygments_lexer": "ipython3",
   "version": "3.12.3"
  }
 },
 "nbformat": 4,
 "nbformat_minor": 5
}

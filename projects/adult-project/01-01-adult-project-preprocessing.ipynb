{
 "cells": [
  {
   "cell_type": "markdown",
   "id": "a019c33e-18bd-42f9-bd3a-42915bacc8eb",
   "metadata": {},
   "source": [
    "# Project: Adult Dataset\n",
    "\n",
    "- **Project Name:** Adult Classification Project\n",
    "- **Project Type:** Binary-class Classification\n",
    "- **Author:** Dr. Saad Laouadi\n",
    "\n",
    "### Project Overview:\n",
    "This project leverages the famous **Adult Dataset**, also known as the **Census Income Dataset**, for a **binary-class classification** problem. The objective is to predict whether a person earns more than $50,000 a year based on various demographic features.\n",
    "\n",
    "The primary focus of this notebook is **data preprocessing**, which includes handling missing values, encoding categorical variables, and feature scaling to prepare the data for machine learning algorithms.\n",
    "\n",
    "### Dataset Details:\n",
    "- **Source**: The Adult Dataset is derived from the 1994 U.S. Census database.\n",
    "- **Classes**: Binary classification task - the target is to predict income (<=50K or >50K).\n",
    "- **Number of Samples**: 48,842\n",
    "- **Number of Features**: 14 features (including age, education, occupation, race, etc.)\n",
    "\n",
    "### Key Features:\n",
    "- **Preprocessing Tasks**:\n",
    "  - Handle missing or incomplete data\n",
    "  - Encode categorical variables\n",
    "  - Feature scaling (e.g., Standardization, Normalization)\n",
    "\n",
    "### Objectives:\n",
    "1. **Preprocess the dataset**:\n",
    "   - Handle missing values\n",
    "   - Convert categorical data into numeric form using encoding techniques\n",
    "   - Scale/normalize features for optimal performance in future machine learning models\n",
    "2. **Prepare the dataset** for modeling and evaluation in the next notebook.\n",
    "\n",
    "---\n",
    "\n",
    "**Copyright © Dr. Saad Laouadi**  \n",
    "**All Rights Reserved** 🛡️"
   ]
  },
  {
   "cell_type": "code",
   "execution_count": null,
   "id": "4c823ff4-8bed-469c-8060-07181d2cf8d7",
   "metadata": {},
   "outputs": [],
   "source": [
    "# Import necessary modules\n",
    "import os\n",
    "import re\n",
    "import requests\n",
    "import json \n",
    "from io import StringIO\n",
    "import warnings\n",
    "\n",
    "import pandas as pd\n",
    "import numpy as np\n",
    "\n",
    "import matplotlib.pyplot as plt\n",
    "import matplotlib.colors as mcolors\n",
    "import seaborn as sns\n",
    "\n",
    "# Configuration Variables\n",
    "PRINT_INFO = True\n",
    "\n",
    "with open('config.json', 'r') as file:\n",
    "    config = json.load(file)\n",
    "\n",
    "train_data_url = config['TRAIN_DATA']\n",
    "test_data_url = config['TEST_DATA']\n",
    "info_data_url = config['INFO_DATA']\n",
    "\n",
    "processed_train_data = config['PROCESSED_TRAIN_DATA']\n",
    "model_save_path = config['MODEL_SAVE_PATH']\n",
    "metrics_save_path = config['METRICS_SAVE_PATH']\n",
    "random_seed = config['RANDOM_SEED']\n",
    "\n",
    "if PRINT_INFO:\n",
    "    print(\"Train Data URL:\", train_data_url)\n",
    "    print(\"Test Data URL:\", test_data_url)\n",
    "    print(\"Info Data URL:\", info_data_url)\n",
    "    \n",
    "    print(\"Processed Train Data Path:\", processed_train_data)\n",
    "    print(\"Model Save Path:\", model_save_path)\n",
    "    print(\"Metrics Save Path:\", metrics_save_path)\n",
    "    print(\"Random Seed:\", random_seed)\n",
    "\n",
    "\n",
    "%load_ext autoreload\n",
    "%autoreload 2\n",
    "\n",
    "from utils import *\n",
    "\n",
    "%load_ext watermark\n",
    "%watermark -iv -v  "
   ]
  },
  {
   "cell_type": "markdown",
   "id": "dd6b065b-88b2-4dbc-ac65-23a51c289225",
   "metadata": {},
   "source": [
    "### Check the Data information"
   ]
  },
  {
   "cell_type": "code",
   "execution_count": null,
   "id": "27b96fcd-9709-4cfd-867e-1fbec5b13e13",
   "metadata": {},
   "outputs": [],
   "source": [
    "# Fetch the content of data info from the info_data_url \n",
    "\n",
    "\n",
    "# Print the content of the text file"
   ]
  },
  {
   "cell_type": "code",
   "execution_count": null,
   "id": "010e3004-95fc-45cd-a1d7-e7504b7d7666",
   "metadata": {},
   "outputs": [],
   "source": [
    "# Download the data if you need to \n",
    "# !wget https://raw.githubusercontent.com/qcversity/ml-datasets/refs/heads/main/data/adult.info.txt"
   ]
  },
  {
   "cell_type": "markdown",
   "id": "fc21c55e-87cd-43c2-bd10-0a0c5f150082",
   "metadata": {},
   "source": [
    "### Extracting Feature Names\n",
    "\n"
   ]
  },
  {
   "cell_type": "code",
   "execution_count": null,
   "id": "9a56ff44-da52-410c-895e-a58194620e38",
   "metadata": {},
   "outputs": [],
   "source": [
    "# Check the file with a text editor locally or online to get the following information\n",
    "\n",
    "START_LINE = 94\n",
    "END_LINE = None \n",
    "PATTERN = r\"([a-zA-Z0-9\\-]+):\" \n",
    "\n",
    "# This function is user defined from the utils module\n",
    "feature_names = extract_feature_names(info_data_url,\n",
    "                                      start_line=START_LINE,\n",
    "                                      end_line=END_LINE,\n",
    "                                      pattern=PATTERN\n",
    "                                     )\n",
    "\n",
    "print(\"*\"*72)\n",
    "print(f\"The extracted feature names:\\n{feature_names}\")\n",
    "print(f\"The number of features: {len(feature_names)}\")\n",
    "print(\"*\"*72)\n",
    "\n",
    "# Add the target to the list of feature names\n",
    "target = ['income']\n",
    "col_names = feature_names + target\n",
    "print(f\"The column names are:\\n{col_names}\")\n",
    "print(\"*\"*72)"
   ]
  },
  {
   "cell_type": "code",
   "execution_count": null,
   "id": "c32ffba7-2fe9-4cc7-9e32-07b6ff3ae6c0",
   "metadata": {},
   "outputs": [],
   "source": []
  }
 ],
 "metadata": {
  "kernelspec": {
   "display_name": "MLENV Py3.12",
   "language": "python",
   "name": "mlenv"
  },
  "language_info": {
   "codemirror_mode": {
    "name": "ipython",
    "version": 3
   },
   "file_extension": ".py",
   "mimetype": "text/x-python",
   "name": "python",
   "nbconvert_exporter": "python",
   "pygments_lexer": "ipython3",
   "version": "3.12.5"
  }
 },
 "nbformat": 4,
 "nbformat_minor": 5
}

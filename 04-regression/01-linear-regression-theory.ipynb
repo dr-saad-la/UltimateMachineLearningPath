{
 "cells": [
  {
   "cell_type": "markdown",
   "id": "40ad579b-8a47-4cda-9b65-aa3298fe1490",
   "metadata": {},
   "source": [
    "<div style=\"background-color:#daee8420; line-height:1.5; text-align:center;border:2px solid black;\">\n",
    "    <div style=\"color:#7B242F; font-size:24pt; font-weight:700;\">The Ultimate Machine Learning Mastery Course with Python</div>\n",
    "</div>"
   ]
  },
  {
   "cell_type": "markdown",
   "id": "d56b41d2-c8aa-4b60-a428-a3d0038bba10",
   "metadata": {},
   "source": [
    "---\n",
    "### **Course**: The Ultimate Machine Learning Course with Python  \n",
    "#### **Chapter**: Regression  \n",
    "##### **Lesson**: Linear Regression Theory  \n",
    "###### **Author:** Dr. Saad Laouadi   \n",
    "###### **Copyright:** Dr. Saad Laouadi    \n",
    "\n",
    "---\n",
    "\n",
    "## License\n",
    "\n",
    "**This material is intended for educational purposes only and may not be used directly in courses, video recordings, or similar without prior consent from the author. When using or referencing this material, proper credit must be attributed to the author.**\n",
    "\n",
    "```text\n",
    "#**************************************************************************\n",
    "#* (C) Copyright 2024 by Dr. Saad Laouadi. All Rights Reserved.           *\n",
    "#**************************************************************************                                                                    \n",
    "#* DISCLAIMER: The author has used their best efforts in preparing        *\n",
    "#* this content. These efforts include development, research,             *\n",
    "#* and testing of the theories and programs to determine their            *\n",
    "#* effectiveness. The author makes no warranty of any kind,               *\n",
    "#* expressed or implied, with regard to these programs or                 *\n",
    "#* to the documentation contained within. The author shall not            *\n",
    "#* be liable in any event for incidental or consequential damages         *\n",
    "#* in connection with, or arising out of, the furnishing,                 *\n",
    "#* performance, or use of these programs.                                 *\n",
    "#*                                                                        *\n",
    "#* This content is intended for tutorials, online articles,               *\n",
    "#* and other educational purposes.                                        *\n",
    "#**************************************************************************\n",
    "```"
   ]
  },
  {
   "cell_type": "markdown",
   "id": "2137ca9a-a80a-4ac9-a29d-94be2caa62f8",
   "metadata": {},
   "source": [
    "## Introduction "
   ]
  },
  {
   "cell_type": "code",
   "execution_count": null,
   "id": "7ecef5f0-5625-4452-ad6d-631c23ebd4f6",
   "metadata": {},
   "outputs": [],
   "source": []
  }
 ],
 "metadata": {
  "kernelspec": {
   "display_name": "Python3.12",
   "language": "python",
   "name": "python3"
  },
  "language_info": {
   "codemirror_mode": {
    "name": "ipython",
    "version": 3
   },
   "file_extension": ".py",
   "mimetype": "text/x-python",
   "name": "python",
   "nbconvert_exporter": "python",
   "pygments_lexer": "ipython3",
   "version": "3.12.3"
  }
 },
 "nbformat": 4,
 "nbformat_minor": 5
}
